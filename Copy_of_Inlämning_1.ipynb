{
  "nbformat": 4,
  "nbformat_minor": 0,
  "metadata": {
    "kernelspec": {
      "display_name": "Python 3",
      "language": "python",
      "name": "python3"
    },
    "language_info": {
      "codemirror_mode": {
        "name": "ipython",
        "version": 3
      },
      "file_extension": ".py",
      "mimetype": "text/x-python",
      "name": "python",
      "nbconvert_exporter": "python",
      "pygments_lexer": "ipython3",
      "version": "3.7.4"
    },
    "colab": {
      "name": "Copy of Inlämning_1.ipynb",
      "provenance": [],
      "collapsed_sections": [],
      "toc_visible": true,
      "include_colab_link": true
    }
  },
  "cells": [
    {
      "cell_type": "markdown",
      "metadata": {
        "id": "view-in-github",
        "colab_type": "text"
      },
      "source": [
        "<a href=\"https://colab.research.google.com/github/UU-IM-EU/2IS239/blob/master/Copy_of_Inl%C3%A4mning_1.ipynb\" target=\"_parent\"><img src=\"https://colab.research.google.com/assets/colab-badge.svg\" alt=\"Open In Colab\"/></a>"
      ]
    },
    {
      "cell_type": "markdown",
      "metadata": {
        "id": "bw-Vf-6pdy0s"
      },
      "source": [
        "# Inlämning laboration 1\n",
        "\n",
        "Vissa av uppgifterna i denna inlämning är inspirerade från följande källor:\n",
        "\n",
        "- MyMachineLearningCourse in Python, licensierad  under GNU General Public License v3.0\n",
        "- Software Carpentry Copyright ©Software Carpentry, http://software-carpentry.org/, licensierad under Creative Commons Attribution license,https://creativecommons.org/licenses/by/4.0/\n",
        "- Geo Python (© Copyright 2017 Tenkanen & Whipp, University of Helsinki) licensierad under Creative Commons Attribution-ShareAlike 4.0 International licence https://creativecommons.org/licenses/by-sa/4.0/legalcode.\n",
        "\n",
        "\n",
        "Denna laboration ska genomföras i par, när ni arbetar med laborationen ska ni vara noga med att spara era ändringar i GitHub. Det går att göra direkt från collaboratory genom att spara en kopia i ert repository. Detta är dels för att ni inte ska riskera att förlora något arbete men också för att det ska gå att följa ert arbete som lärare. När ni är färdiga ska länken till laborationen i collaboratory lämnas in i Studium. Endast en inlämning per grupp behövs. Det är också att rekommendera att infoga en knapp för att öppna filen i Collaboratory direkt från GitHub, detta får ni en fråga om när ni kopierar filen till GitHub, via arkivmenyn.\n",
        "\n",
        "Det finns totalt 12 uppgifter och frågor, samtliga ska besvaras för godkänt. "
      ]
    },
    {
      "cell_type": "markdown",
      "metadata": {
        "id": "D5FQ6hrkdy0x"
      },
      "source": [
        "## Uppgift 1\n",
        "Skriv ut dagens datum i formatet YYYY-MM-DD"
      ]
    },
    {
      "cell_type": "code",
      "metadata": {
        "id": "v9h9bhFRj9yo"
      },
      "source": [
        "from datetime import date\n",
        "print(date.today())"
      ],
      "execution_count": null,
      "outputs": []
    },
    {
      "cell_type": "markdown",
      "metadata": {
        "id": "IHC2qeQYdy0y"
      },
      "source": [
        "## Uppgift 2  \n",
        "Definiera en funktion `max_of_three()` som tar tre olika nummer som argument och returnerar det största av dem, skriv ut resultatet."
      ]
    },
    {
      "cell_type": "code",
      "metadata": {
        "colab": {
          "base_uri": "https://localhost:8080/"
        },
        "id": "Hw9UgYEllCDb",
        "outputId": "d93a1a9e-fc3c-4356-9ad3-69c6a7f4a29d"
      },
      "source": [
        "def max_of_three(num1, num2, num3):\n",
        "    lista = [num1, num2, num3]\n",
        "    return max(lista)\n",
        "\n",
        "print(f'The largest number of the three arguments are: {max_of_three(1,2,3)}')"
      ],
      "execution_count": null,
      "outputs": [
        {
          "output_type": "stream",
          "name": "stdout",
          "text": [
            "The largest number of the three arguments are: 3\n"
          ]
        }
      ]
    },
    {
      "cell_type": "markdown",
      "metadata": {
        "id": "aJdpftCDdy0y"
      },
      "source": [
        "## Uppgift 3  \n",
        "Definiera en funktion `sum()` som summerar och en annan funktion `multiply()` som multiplicerar alla nummer i en lista, skriv ut resultatet \n",
        "\n",
        "**Ex:** `sum([1, 2, 3, 4])` ska returnera 10, och `multiply()([1, 2, 3, 4])` ska returnera 24."
      ]
    },
    {
      "cell_type": "code",
      "metadata": {
        "id": "4-6KAI5QswGQ",
        "colab": {
          "base_uri": "https://localhost:8080/"
        },
        "outputId": "7a16e2b9-53aa-428b-9eb7-af2690da55ab"
      },
      "source": [
        "numList= [1, 2, 3, 4]\n",
        "\n",
        "def sumNumber(numbers):\n",
        "  sum = 0\n",
        "  for i in numbers:\n",
        "    sum += i\n",
        "  return sum\n",
        "\n",
        "def multiply(numbers):\n",
        "  multi = 1\n",
        "  for i in numbers:\n",
        "    multi *= i\n",
        "  return multi\n",
        "\n",
        "print(sumNumber(numList))\n",
        "print(multiply(numList))"
      ],
      "execution_count": null,
      "outputs": [
        {
          "output_type": "stream",
          "text": [
            "10\n",
            "24\n"
          ],
          "name": "stdout"
        }
      ]
    },
    {
      "cell_type": "markdown",
      "metadata": {
        "id": "PIu_mgHady0y"
      },
      "source": [
        "## Uppgift 4\n",
        "\n",
        "**a.** Definiera en funktion som tar ett antal (varierande) kommaseparerade nummer som argument och genererar en lista och en tuple som innehåller dessa nummer.\n",
        "\n",
        "**b.** Vad är skillnaden mellan en lista och en tuple i Python?"
      ]
    },
    {
      "cell_type": "code",
      "metadata": {
        "id": "28YuxANgyGVC",
        "colab": {
          "base_uri": "https://localhost:8080/"
        },
        "outputId": "af3ad02c-8762-4135-879e-1dc5be18b491"
      },
      "source": [
        "#a)\n",
        "def listTuple(numbers):\n",
        "    lista = []\n",
        "    tupleLista = ()\n",
        "    lista = numbers.split(\",\")\n",
        "    tupleLista = tuple(lista)\n",
        "    print(lista)\n",
        "    print(tupleLista)\n",
        "\n",
        "listTuple(\"1,2,3,4\")\n",
        "\n",
        "#b) Listor går att ändra, lägga till och ta bort element(dynamiska). Tupler är oförändringsbara (statiska). "
      ],
      "execution_count": null,
      "outputs": [
        {
          "output_type": "stream",
          "text": [
            "['1', '2', '3', '4']\n",
            "('1', '2', '3', '4')\n"
          ],
          "name": "stdout"
        }
      ]
    },
    {
      "cell_type": "markdown",
      "metadata": {
        "id": "aSOWyygGdy0y"
      },
      "source": [
        "## Uppgift 5 \n",
        "Skapa två olika tal som integers. Kalkylera produkten av dessa, om produkten är **högre** än 200, returnera då summan av de två talen,skriv ut resultatet. \n",
        "\n",
        "**Ex**\n",
        "~~~\n",
        "INPUT:  \n",
        "`number1 = 10`  \n",
        "`number2 = 20`\n",
        "\n",
        "RESULT:  \n",
        "The result is 200.\n",
        "~~~\n"
      ]
    },
    {
      "cell_type": "code",
      "metadata": {
        "id": "V4SIYJq_zzN4",
        "colab": {
          "base_uri": "https://localhost:8080/"
        },
        "outputId": "e1bfb9be-f1cd-40a0-a6fa-41f1ea3dcb19"
      },
      "source": [
        "def sumNumbers(one, two):\n",
        "  sum = one*two  \n",
        "  if sum > 200:\n",
        "    print(\"Total sum is: \", sum)\n",
        "\n",
        "sumNumbers(11, 20)"
      ],
      "execution_count": null,
      "outputs": [
        {
          "output_type": "stream",
          "text": [
            "Total sum is:  220\n"
          ],
          "name": "stdout"
        }
      ]
    },
    {
      "cell_type": "markdown",
      "metadata": {
        "id": "OElCILxXdy0z"
      },
      "source": [
        "## Uppgift 6 \n",
        "**a.** Givet en sträng, skriv ut de bokstäver som finns på alla ojämna indexplatser. \n",
        "\n",
        "**b.** Utveckla ovanstående funktion så att mellanslag inte skrivs ut utan endast index med bokstäver. "
      ]
    },
    {
      "cell_type": "code",
      "metadata": {
        "id": "i5UY2Zfk0gh4",
        "colab": {
          "base_uri": "https://localhost:8080/"
        },
        "outputId": "2964e29f-668d-4033-9321-9d44141baf05"
      },
      "source": [
        "#A)\n",
        "food = 'Hamburger'\n",
        "print(food[1], food[3], food[5], food[7])\n",
        "\n",
        "#B)\n",
        "food = 'Hamburger'\n",
        "print(\"The original word : \" + food) \n",
        "  \n",
        "uneven = food[1::2] \n",
        "even = food[::2]\n",
        "\n",
        "print(\"Even index: \" + even) \n",
        "print(\"Uneven index: \" + uneven)\n",
        "\n",
        "\n",
        "#Alternativ på uppgift (b)\n",
        "#Lösning som tar bort mellanslag om det finns med i strängen - vi kom överrens om att uppgiften går att tolka på olika sätt\n",
        "def uneven_word(input_str):\n",
        "    str_list = list(input_str)\n",
        "    uneven_word = \"\"\n",
        "    for i in range(len(str_list)):\n",
        "        if i%2 != 0 and str_list[i] != \" \":\n",
        "            uneven_word += str(str_list[i])\n",
        "    return uneven_word\n",
        "print(uneven_word(\"Hello there!\"))"
      ],
      "execution_count": null,
      "outputs": [
        {
          "output_type": "stream",
          "text": [
            "a b r e\n",
            "The original word : Hamburger\n",
            "Even index: Hmugr\n",
            "Uneven index: abre\n",
            "elhr!\n"
          ],
          "name": "stdout"
        }
      ]
    },
    {
      "cell_type": "markdown",
      "metadata": {
        "id": "ibaj9iLfdy0z"
      },
      "source": [
        "## Uppgift 7\n",
        "**a** Skapa en sträng som innehåller 4 olika ord, separerade med ; Använd den inbyggda funktionen `split()`och skriv ut de fyra orden på varsin rad.\n",
        "\n",
        "**b** Varför var denna övning viktig inför framtida analys av strukturerad data?\n"
      ]
    },
    {
      "cell_type": "code",
      "metadata": {
        "id": "IkI2oPxL238g"
      },
      "source": [
        "#A)\n",
        "words = 'Hamburger;Pizza;Salad;Sushi'\n",
        "a,b,c,d = words.split(';')\n",
        "print(f'{a}\\n{b}\\n{c}\\n{d}')\n",
        "\n",
        "#B)\n",
        "#Viktigt att kunna bryta isär data från varandra för lättare analys. I csv filer är oftast ; eller något annat tecken det som separerar olika data från varandra."
      ],
      "execution_count": null,
      "outputs": []
    },
    {
      "cell_type": "markdown",
      "metadata": {
        "id": "YIbeBwIFdy0z"
      },
      "source": [
        "## Uppgift 8"
      ]
    },
    {
      "cell_type": "markdown",
      "metadata": {
        "id": "BbWEjnhgdy0z"
      },
      "source": [
        "Beräkna inkomstskatten för några olika personer med olika inkomst, använd nedanstående tabell för att se reglerna för inkomstskatt för olika inkomster. Skriv ut varje persons inkomst och skatt på en egen rad. \n",
        "\n",
        "| Inkomst  | Skatt (%) |\n",
        "|----------|-----------|\n",
        "| <=10 000 |     0     |\n",
        "| <=30 000 |     20    |\n",
        "| > 30 000 |     40    |\n",
        "\n",
        "\n",
        "**Ex**\n",
        "\n",
        "~~~\n",
        "En person med en inkomst på 35000 ska betala 10 000*0 + 20 000*0,2 + 5000*0,4 = 6000 kr i skatt.\n",
        "~~~"
      ]
    },
    {
      "cell_type": "code",
      "metadata": {
        "id": "lRY4dlHa4UxU",
        "colab": {
          "base_uri": "https://localhost:8080/"
        },
        "outputId": "c623e678-793a-40e8-9a4c-42358018d1bd"
      },
      "source": [
        "def calculate_tax(income):\n",
        "    tax = 0\n",
        "    if income <= 10000:\n",
        "        tax = 0\n",
        "    elif income > 10000 and income <= 30000:\n",
        "        tax = (income-10000)*0.2\n",
        "    else:\n",
        "        tax = (20000*0.2) + ((income-30000)*0.4) \n",
        "    return tax\n",
        "\n",
        "\n",
        "income = 29000\n",
        "print(f'The persons tax based on income {income} is: {calculate_tax(income)}kr')\n",
        "income = 40000\n",
        "print(f'The persons tax based on income {income} is: {calculate_tax(income)}kr')\n",
        "income = 11000\n",
        "print(f'The persons tax based on income {income} is: {calculate_tax(income)}kr')"
      ],
      "execution_count": null,
      "outputs": [
        {
          "output_type": "stream",
          "text": [
            "The persons tax based on income 29000 is: 3800.0kr\n",
            "The persons tax based on income 40000 is: 8000.0kr\n",
            "The persons tax based on income 11000 is: 200.0kr\n"
          ],
          "name": "stdout"
        }
      ]
    },
    {
      "cell_type": "markdown",
      "metadata": {
        "id": "Xuyg0tTpdy00"
      },
      "source": [
        "## Uppgift 9\n",
        "\n",
        "**För att genomföra denna uppgift kan fler än ett kodblock behöva skapas.**\n",
        "\n",
        "Skapa en strängvariabel som du döper till name och spara ditt förnamn och efternamn i en enda sträng i denna variabel.\n",
        "\n",
        "Skapa en integervariabel som du döper till iceCreamRating och använd denna för att spara ettnummer mellan 0 till 10 som speglar hur mycket du tycker om glass.\n",
        "\n",
        "Koda sedan i Python något som ger ungefär denna output:\n",
        "\n",
        "Mitt namn är Elin Uppström och jag ger glassätning 7 poäng av 10 möjliga!\n",
        "\n",
        "**OBS!** Elin Uppström ska såklart bestå av innehållet i variabeln name och poängen ska komma från variabeln iceCreamRating"
      ]
    },
    {
      "cell_type": "code",
      "metadata": {
        "id": "8XEwEk-O4-24"
      },
      "source": [
        "name = 'Edwin Perez'\n",
        "iceCreamRating = 6\n",
        "\n",
        "print(f'Mitt namn är {name} och jag ger glassätning {iceCreamRating} av 10 möjliga!')"
      ],
      "execution_count": null,
      "outputs": []
    },
    {
      "cell_type": "markdown",
      "metadata": {
        "id": "Voi11kvgdy00"
      },
      "source": [
        "## Uppgift 10\n",
        "\n",
        "a. För att konvertera sekunder till sekunder, minuter och timmar kan följande metod användas med \"brute force\". \n",
        "~~~\n",
        "def convert(seconds): \n",
        "    seconds = seconds % (24 * 3600) \n",
        "    hour = seconds // 3600\n",
        "    seconds %= 3600\n",
        "    minutes = seconds // 60\n",
        "    seconds %= 60\n",
        "      \n",
        "    return \"%d:%02d:%02d\" % (hour, minutes, seconds) \n",
        "      \n",
        "# Driver program \n",
        "n = 12345\n",
        "print(convert(n)) \n",
        "\n",
        "~~~\n",
        "\n",
        "Istället för brute force, skapa två olika förslag på hur samma sak kan åstadkommas med hjälp av Pythons inbyggda bibliotek som ni hittar [här](https://docs.python.org/3/library/index.html).\n"
      ]
    },
    {
      "cell_type": "code",
      "metadata": {
        "id": "Aj7qTwOR5luY",
        "colab": {
          "base_uri": "https://localhost:8080/"
        },
        "outputId": "b6b036ba-c1ee-4221-a21c-1f82a30e7864"
      },
      "source": [
        "import datetime\n",
        "sec = 123455\n",
        "res = datetime.timedelta(seconds = sec)\n",
        "print(res)"
      ],
      "execution_count": null,
      "outputs": [
        {
          "output_type": "stream",
          "text": [
            "1 day, 10:17:35\n"
          ],
          "name": "stdout"
        }
      ]
    },
    {
      "cell_type": "code",
      "metadata": {
        "id": "l-Iv3HXK5m-E",
        "colab": {
          "base_uri": "https://localhost:8080/"
        },
        "outputId": "08443225-d2e7-4ba1-b018-4dcce0745a01"
      },
      "source": [
        "import time\n",
        "sec = 123455\n",
        "ty_res = time.gmtime(sec)\n",
        "res = time.strftime(\"%H:%M:%S\",ty_res)\n",
        "print(res)"
      ],
      "execution_count": null,
      "outputs": [
        {
          "output_type": "stream",
          "text": [
            "10:17:35\n"
          ],
          "name": "stdout"
        }
      ]
    },
    {
      "cell_type": "markdown",
      "metadata": {
        "id": "oNefubSwdy00"
      },
      "source": [
        "## Uppgift 11\n",
        "\n",
        "I filen som heter smhi_vaderdata.csv finns ett helt dyngs väderdata från Visby flygplats, nämligen från den 28 augusti 11.00 till den 29 augusti 11.00. I denna övning ska ni använda denna data och utföra ett antal uppgifter. För att importera den data som finns används ett externt bibliotek som heter pandas som vi kommer använda oss mycket av framöver. Denna gång får ni dock filen importerad åt er samt de olika temperaturerna inlagda i en lista. När ni sedan skriver er egen kod gör ni detta i ett nytt kodblock. \n",
        "\n",
        "a. Skapa tomma listor för olika typer av temperatur, exempelvis varmt, ljummet, kallt etc. Minst tre olika typer av temperaturer ska ingå. \n",
        "\n",
        "b. Iterera över listan och sortera in de olika temperaturerna i de skapade temperaturtyperna, \n",
        "\n",
        "**Ex** \n",
        "~~~\n",
        "temperatur över 18 grader ska till listan med varma temperaturer\n",
        "~~~\n",
        "\n",
        "c. Ange hur många timmar under dygnet de olika temperaturtyperna förekommit. \n",
        "\n",
        "**Ex**\n",
        "\n",
        "~~~\n",
        "Det var varmt fem timmar under dygnet.\n",
        "Det var ljummet åtta timmar under dygnet.\n",
        "Det var inte kallt någon timme under dygnet.\n",
        "~~~\n",
        "\n",
        "d. Förklara vilka argument `read_csv` kan ta och vad de två argument som skickas med i nedanstående kod betyder. \n",
        "\n",
        "e. Vad är den första kolumnen i den dataframe som skapas i koden nedan (ni måste köra koden för att resultatet ska synas.)"
      ]
    },
    {
      "cell_type": "code",
      "metadata": {
        "id": "1RP1FFR8dy00"
      },
      "source": [
        "#importerar pandas och hämtar data från csv-filen till en dataFrame\n",
        "import pandas as pd\n",
        "temperature_df= pd.read_csv(\"smhi_vaderdata.csv\", sep=';')\n",
        "temperature_df"
      ],
      "execution_count": null,
      "outputs": []
    },
    {
      "cell_type": "code",
      "metadata": {
        "id": "JCLzKrwKdy01"
      },
      "source": [
        "#skapar en lista med enbart temperatur\n",
        "temperature = temperature_df['Lufttemperatur']\n",
        "temperature"
      ],
      "execution_count": null,
      "outputs": []
    },
    {
      "cell_type": "code",
      "metadata": {
        "id": "FjiqYqgEdy01"
      },
      "source": [
        "#a)\n",
        "warm = []\n",
        "cold = []\n",
        "lukewarm = []\n",
        "\n",
        "#b)\n",
        "#Iterera över listan och sortera in de olika temperaturerna i de skapade temperaturtyperna,\n",
        "for i in range(len(temperature)):\n",
        "    if temperature[i] > 18:\n",
        "        warm.append(temperature[i])\n",
        "    elif temperature[i] <= 18 and temperature[i] >= 14:\n",
        "        lukewarm.append(temperature[i])\n",
        "    else:\n",
        "        cold.append(temperature[i])\n",
        "\n",
        "    \n",
        "#c)\n",
        "print(f'Det var varmt {len(warm)} timmar under dygnet')\n",
        "print(f'Det var ljummet {len(lukewarm)} timmar under dygnet')\n",
        "print(f'Det var kallt {len(cold)} timmar under dygnet')\n",
        "        \n"
      ],
      "execution_count": null,
      "outputs": []
    },
    {
      "cell_type": "markdown",
      "metadata": {
        "id": "aLssqyP-8hWY"
      },
      "source": [
        "d) Förklara vilka argument read_csv kan ta och vad de två argument som skickas med i nedanstående kod betyder.\n",
        "\n",
        "svar: Argumenten som csv_read kan ta är filväg, alltså vart filen vi vill läsa ligger och vilken typ, filändelse filen vi vill läsa har, i detta fall vill vi läsa \"data/smhi_vaderdata.csv\", en fil som heter smhi_vaderdata och ligger i data-mappen samt är av typ csv. \n",
        "\n",
        "Sedan tar csv_read in ett seperationstecken, sep=';'. Detta är det tecken som vi vill använda för att komma åt varje enskilt värde i dokumentet, tex i varje kolumn. Sep kan variera beroende på vilket separationstecken som använts i dokumentet som ska läsas. \n",
        "\n",
        "e) Indexvärden för alla rader "
      ]
    },
    {
      "cell_type": "markdown",
      "metadata": {
        "id": "BrFp68Sidy01"
      },
      "source": [
        "## Uppgift 12\n",
        "\n",
        "Restaurang varvet har börjat använda swish i hög utsträckning, dock har de ett problem. Kassans dagliga sammanställning stämmer inte med summan som levereras från banken på hur mycket pengar som inkommit. Anledningen är att banken inte sammanställer swishinkomster per dag. Ägaren behöver därför göra detta manuellt vilket tar mycket tid. \n",
        "\n",
        "Uppgiften är därmed att beräkna en totalsumma av swishinbetalningar per dag och leverera denna sammanställning i en ny fil som ni sedan kan skicka till ägaren för att underlätta dennes arbete. Ni läser in filen på samma sätt som i föregående övning, även denna fil har ; som separator. Som hjälp har också de bibliotek ni behöver för att genomföra uppgiften importerats. Skapa lämligt antal nya kodblock för att utföra uppgiften. \n",
        "\n",
        "\n"
      ]
    },
    {
      "cell_type": "code",
      "metadata": {
        "id": "n1wPpoVtdy02"
      },
      "source": [
        "#Importerar nädvändiga bibliotek\n",
        "import pandas as pd\n",
        "import dateutil\n",
        "import csv as csv"
      ],
      "execution_count": null,
      "outputs": []
    },
    {
      "cell_type": "code",
      "metadata": {
        "id": "ef6bjoICdy02",
        "colab": {
          "base_uri": "https://localhost:8080/",
          "height": 419
        },
        "outputId": "99de96f3-9d4d-4bb2-8443-3b31a66eb63e"
      },
      "source": [
        "#läser in filen och displayar dataframe:et\n",
        "swish_df= pd.read_csv(\"Data/Kontohandelser_swish.csv\", sep=';')\n",
        "\n",
        "swish_df = swish_df.replace(',','.', regex=True)\n",
        "swish_df"
      ],
      "execution_count": null,
      "outputs": [
        {
          "output_type": "execute_result",
          "data": {
            "text/html": [
              "<div>\n",
              "<style scoped>\n",
              "    .dataframe tbody tr th:only-of-type {\n",
              "        vertical-align: middle;\n",
              "    }\n",
              "\n",
              "    .dataframe tbody tr th {\n",
              "        vertical-align: top;\n",
              "    }\n",
              "\n",
              "    .dataframe thead th {\n",
              "        text-align: right;\n",
              "    }\n",
              "</style>\n",
              "<table border=\"1\" class=\"dataframe\">\n",
              "  <thead>\n",
              "    <tr style=\"text-align: right;\">\n",
              "      <th></th>\n",
              "      <th>Bokföringsdatum</th>\n",
              "      <th>Valutadatum</th>\n",
              "      <th>Text/mottagare</th>\n",
              "      <th>Belopp</th>\n",
              "      <th>Valuta</th>\n",
              "      <th>Referens</th>\n",
              "      <th>Mottagarens Swishnamn</th>\n",
              "      <th>Swishreferens</th>\n",
              "      <th>Ursprungsreferens Swish</th>\n",
              "    </tr>\n",
              "  </thead>\n",
              "  <tbody>\n",
              "    <tr>\n",
              "      <th>0</th>\n",
              "      <td>2020-06-26</td>\n",
              "      <td>2020-06-26</td>\n",
              "      <td>46733395456</td>\n",
              "      <td>50.00</td>\n",
              "      <td>SEK</td>\n",
              "      <td>6149365736410480</td>\n",
              "      <td>Restaurang Varvet</td>\n",
              "      <td>B7FE4F39756D436B82C3CF736B800A8F</td>\n",
              "      <td>NaN</td>\n",
              "    </tr>\n",
              "    <tr>\n",
              "      <th>1</th>\n",
              "      <td>2020-06-26</td>\n",
              "      <td>2020-06-26</td>\n",
              "      <td>46705664550</td>\n",
              "      <td>90.00</td>\n",
              "      <td>SEK</td>\n",
              "      <td>6149339903660557</td>\n",
              "      <td>Restaurang Varvet</td>\n",
              "      <td>C9C02357E1E24C188D46CAF8F67D784F</td>\n",
              "      <td>NaN</td>\n",
              "    </tr>\n",
              "    <tr>\n",
              "      <th>2</th>\n",
              "      <td>2020-06-26</td>\n",
              "      <td>2020-06-26</td>\n",
              "      <td>46708765709</td>\n",
              "      <td>1250.00</td>\n",
              "      <td>SEK</td>\n",
              "      <td>6149296566940348</td>\n",
              "      <td>Restaurang Varvet</td>\n",
              "      <td>E276BCEB71734C6186A58FFE3E2AB190</td>\n",
              "      <td>NaN</td>\n",
              "    </tr>\n",
              "    <tr>\n",
              "      <th>3</th>\n",
              "      <td>2020-06-26</td>\n",
              "      <td>2020-06-26</td>\n",
              "      <td>46733813001</td>\n",
              "      <td>3100.00</td>\n",
              "      <td>SEK</td>\n",
              "      <td>6149285964410607</td>\n",
              "      <td>Restaurang Varvet</td>\n",
              "      <td>CC9D22E8CEB74227B977D8CCE3A49252</td>\n",
              "      <td>NaN</td>\n",
              "    </tr>\n",
              "    <tr>\n",
              "      <th>4</th>\n",
              "      <td>2020-06-26</td>\n",
              "      <td>2020-06-26</td>\n",
              "      <td>46705562211</td>\n",
              "      <td>4200.00</td>\n",
              "      <td>SEK</td>\n",
              "      <td>6149272710660318</td>\n",
              "      <td>Restaurang Varvet</td>\n",
              "      <td>094D75664B664C73B16726E0750A3217</td>\n",
              "      <td>NaN</td>\n",
              "    </tr>\n",
              "    <tr>\n",
              "      <th>...</th>\n",
              "      <td>...</td>\n",
              "      <td>...</td>\n",
              "      <td>...</td>\n",
              "      <td>...</td>\n",
              "      <td>...</td>\n",
              "      <td>...</td>\n",
              "      <td>...</td>\n",
              "      <td>...</td>\n",
              "      <td>...</td>\n",
              "    </tr>\n",
              "    <tr>\n",
              "      <th>235</th>\n",
              "      <td>2020-06-22</td>\n",
              "      <td>2020-06-20</td>\n",
              "      <td>46733108565</td>\n",
              "      <td>1215.00</td>\n",
              "      <td>SEK</td>\n",
              "      <td>6143862357590191</td>\n",
              "      <td>Restaurang Varvet</td>\n",
              "      <td>32BA3E34F5FE4C74B62319DC94FF17A9</td>\n",
              "      <td>NaN</td>\n",
              "    </tr>\n",
              "    <tr>\n",
              "      <th>236</th>\n",
              "      <td>2020-06-22</td>\n",
              "      <td>2020-06-20</td>\n",
              "      <td>46701468120</td>\n",
              "      <td>1650.00</td>\n",
              "      <td>SEK</td>\n",
              "      <td>6143862097150425</td>\n",
              "      <td>Restaurang Varvet</td>\n",
              "      <td>55818BCB6A0A41DBBB236D3E06367542</td>\n",
              "      <td>NaN</td>\n",
              "    </tr>\n",
              "    <tr>\n",
              "      <th>237</th>\n",
              "      <td>2020-06-22</td>\n",
              "      <td>2020-06-20</td>\n",
              "      <td>46725422666</td>\n",
              "      <td>460.00</td>\n",
              "      <td>SEK</td>\n",
              "      <td>6143856329170623</td>\n",
              "      <td>Restaurang Varvet</td>\n",
              "      <td>29287A117D1F4621A27BA8ADAD39EF79</td>\n",
              "      <td>NaN</td>\n",
              "    </tr>\n",
              "    <tr>\n",
              "      <th>238</th>\n",
              "      <td>2020-06-22</td>\n",
              "      <td>2020-06-20</td>\n",
              "      <td>46707597200</td>\n",
              "      <td>80.00</td>\n",
              "      <td>SEK</td>\n",
              "      <td>6143853935200667</td>\n",
              "      <td>Restaurang Varvet</td>\n",
              "      <td>D83C8298BAAC4B3E925073126D618999</td>\n",
              "      <td>NaN</td>\n",
              "    </tr>\n",
              "    <tr>\n",
              "      <th>239</th>\n",
              "      <td>2020-06-22</td>\n",
              "      <td>2020-06-20</td>\n",
              "      <td>46733426445</td>\n",
              "      <td>230.00</td>\n",
              "      <td>SEK</td>\n",
              "      <td>6143852821500778</td>\n",
              "      <td>Restaurang Varvet</td>\n",
              "      <td>A85D8FFE173E43F196AE03DFC74BE115</td>\n",
              "      <td>NaN</td>\n",
              "    </tr>\n",
              "  </tbody>\n",
              "</table>\n",
              "<p>240 rows × 9 columns</p>\n",
              "</div>"
            ],
            "text/plain": [
              "    Bokföringsdatum  ... Ursprungsreferens Swish\n",
              "0        2020-06-26  ...                     NaN\n",
              "1        2020-06-26  ...                     NaN\n",
              "2        2020-06-26  ...                     NaN\n",
              "3        2020-06-26  ...                     NaN\n",
              "4        2020-06-26  ...                     NaN\n",
              "..              ...  ...                     ...\n",
              "235      2020-06-22  ...                     NaN\n",
              "236      2020-06-22  ...                     NaN\n",
              "237      2020-06-22  ...                     NaN\n",
              "238      2020-06-22  ...                     NaN\n",
              "239      2020-06-22  ...                     NaN\n",
              "\n",
              "[240 rows x 9 columns]"
            ]
          },
          "metadata": {
            "tags": []
          },
          "execution_count": 13
        }
      ]
    },
    {
      "cell_type": "code",
      "metadata": {
        "id": "ai1DugnU-MtN"
      },
      "source": [
        "#Gör om innehållet i kolumnerna under Belopp till floats(numerical values)\n",
        "swish_df[\"Belopp\"] = pd.to_numeric(swish_df[\"Belopp\"])"
      ],
      "execution_count": null,
      "outputs": []
    },
    {
      "cell_type": "code",
      "metadata": {
        "id": "PWpyLBWZ-Ogv",
        "colab": {
          "base_uri": "https://localhost:8080/"
        },
        "outputId": "e3c4c399-cb01-4e34-a472-73844aa45603"
      },
      "source": [
        "#Grupperar på valutadatum och beräknar summan för varje nyckel som skapas inom valutadatum\n",
        "swish_sum_df = swish_df.groupby('Valutadatum').Belopp.sum()\n",
        "swish_sum_df"
      ],
      "execution_count": null,
      "outputs": [
        {
          "output_type": "execute_result",
          "data": {
            "text/plain": [
              "Valutadatum\n",
              "2020-06-20    147065.0\n",
              "2020-06-21     23330.0\n",
              "2020-06-24      1590.0\n",
              "2020-06-25     11175.0\n",
              "2020-06-26     15450.0\n",
              "Name: Belopp, dtype: float64"
            ]
          },
          "metadata": {
            "tags": []
          },
          "execution_count": 15
        }
      ]
    },
    {
      "cell_type": "code",
      "metadata": {
        "id": "uEOoN4D3-QVY"
      },
      "source": [
        "#Skriver dataframet swish_sum_df till fil, använder ; som separator och format utf-8\n",
        "swish_sum_df.to_csv('swish_sum_per_day.csv', sep=';', encoding='utf-8')"
      ],
      "execution_count": null,
      "outputs": []
    }
  ]
}