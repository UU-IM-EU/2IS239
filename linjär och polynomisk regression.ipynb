{
 "cells": [
  {
   "cell_type": "markdown",
   "metadata": {},
   "source": [
    "# Linjär regression med polynom - med kod"
   ]
  },
  {
   "cell_type": "markdown",
   "metadata": {},
   "source": [
    "Jämförelse mellan linjär regression och linjär regression med polynom, alltså basis function regression med x = 𝜙(x upphöjt med i). \n",
    "\n",
    "Inspirerad av Nhan Tran i Towards Data Science. "
   ]
  },
  {
   "cell_type": "code",
   "execution_count": null,
   "metadata": {},
   "outputs": [],
   "source": [
    "#importera nödvändiga bibliotek\n",
    "import numpy as np\n",
    "import matplotlib.pyplot as plt\n",
    "import pandas as pd\n",
    "\n",
    "# Importera de två dataset vi ska använda \n",
    "dataset_pos = pd.read_csv('https://s3.us-west-2.amazonaws.com/public.gamelab.fun/dataset/position_salaries.csv')\n",
    "X_pos = dataset_pos.iloc[:, 1:2].values\n",
    "y_pos = dataset_pos.iloc[:, 2].values\n",
    "\n",
    "dataset_sal = pd.read_csv('https://s3.us-west-2.amazonaws.com/public.gamelab.fun/dataset/salary_data.csv')\n",
    "X_sal = dataset_sal.iloc[:, :-1].values\n",
    "y_sal = dataset_sal.iloc[:, 1].values "
   ]
  },
  {
   "cell_type": "markdown",
   "metadata": {},
   "source": [
    "När nödvändiga bibliotek och det dataset vi ska använda är importerat är det dags att göra oss familijär med den data vi ska analysera. Ett bra sätt att göra det är att visualisering. Men allra först vill vi titta på de första raderna i vår data. Använd Python för att hämta dessa i kodblocket nedan. Vi vill också räkna antalet rader totalt i vårt dataset och skriva ut det, samt göra några beräkningar på data såsom medel och medianvärde på löner i respektive position."
   ]
  },
  {
   "cell_type": "code",
   "execution_count": null,
   "metadata": {},
   "outputs": [],
   "source": [
    "#Hur stora är våra dataset?\n",
    "print ('storlek positionsdata ' + str(dataset_pos.size))\n",
    "print ('antal rader position' + str(dataset_pos.shape[0]))\n",
    "\n",
    "print ('storlek lönesdata ' + str(dataset_sal.size))\n",
    "print ('antal rader lön' + str(dataset_sal.shape[0]))\n",
    "\n",
    "#Ok, posititonsdata är bara 10 rader, då kan vi titta på hela\n",
    "print ('lön baserat på position')\n",
    "print(dataset_pos)\n",
    "#lönedata är lite större, men ändå hanterbar, vi tittar på hela den också\n",
    "print('lön baserat på antal arbetade år')\n",
    "print(dataset_sal)"
   ]
  },
  {
   "cell_type": "markdown",
   "metadata": {},
   "source": [
    "Lär känna vår data lite bättre, räkna ut medel och median för löner baserat på antal år eller efter position."
   ]
  },
  {
   "cell_type": "code",
   "execution_count": null,
   "metadata": {},
   "outputs": [],
   "source": [
    "mean_salary=dataset_sal['Salary'].mean()\n",
    "print ('medellön baserat på arbetade år ' + str(mean_salary))\n",
    "\n",
    "median_salary=dataset_sal['Salary'].median()\n",
    "print ('medianlön baserat på arbetade år ' + str(median_salary))"
   ]
  },
  {
   "cell_type": "code",
   "execution_count": null,
   "metadata": {},
   "outputs": [],
   "source": [
    "mean_salary=dataset_pos['Salary'].mean()\n",
    "print ('medellön baserat på position ' + str(mean_salary))\n",
    "\n",
    "median_salary=dataset_pos['Salary'].median()\n",
    "print ('medianlön baserat på position ' + str(median_salary))"
   ]
  },
  {
   "cell_type": "markdown",
   "metadata": {},
   "source": [
    "Inte så snyggt, snyggare är att från panda hämta deskriptiv data direkt om sitt dataset."
   ]
  },
  {
   "cell_type": "code",
   "execution_count": null,
   "metadata": {},
   "outputs": [],
   "source": [
    "print('deskriptiv data om positionsdata')\n",
    "dataset_pos.describe()"
   ]
  },
  {
   "cell_type": "code",
   "execution_count": null,
   "metadata": {},
   "outputs": [],
   "source": [
    "print('deskriptiv statistik om lönedata')\n",
    "dataset_sal.describe()"
   ]
  },
  {
   "cell_type": "markdown",
   "metadata": {},
   "source": [
    "Är det meningsfull statistik i de olika tabellerna? Vad beskriver de?"
   ]
  },
  {
   "cell_type": "markdown",
   "metadata": {},
   "source": [
    "För att skapa både tränings- och testdata behöver vi dela vårt tillgänliga data i ett träningsset och ett testset.  Koda sedan en instruktion som delar dina två datafiler så att ca 30% blir testdata och 70% blir träningsdata. \n",
    "\n",
    "Ta dig sedan en funderare och reflektera över om detta är menignsfullt för dessa två tabeller och varför?"
   ]
  },
  {
   "cell_type": "code",
   "execution_count": null,
   "metadata": {},
   "outputs": [],
   "source": [
    "# dela data mellan testdata och träningsdata för positionstabellen, är det här egentligen meningsfullt?\n",
    "from sklearn.model_selection import train_test_split \n",
    "X_train_pos, X_test_pos, y_train_pos, y_test_pos = train_test_split(X_pos, y_pos, test_size=0.3)"
   ]
  },
  {
   "cell_type": "markdown",
   "metadata": {},
   "source": [
    "Nu är det dags att ta en titt på en linjär regression approximering av vårt data, alltså att visualisera hur en rät linje kan anpassas till vårt data. För detta använder vi biblioteket sklearn som har metoder för linjär regression. "
   ]
  },
  {
   "cell_type": "code",
   "execution_count": null,
   "metadata": {
    "scrolled": true
   },
   "outputs": [],
   "source": [
    "# Beräknar en rät linje anpassad till vårt testdataset för positionsdata\n",
    "from sklearn.linear_model import LinearRegression\n",
    "lin_reg_pos = LinearRegression()\n",
    "lin_reg_pos.fit(X_train_pos, y_train_pos)\n",
    "\n",
    "#Prediktera y\n",
    "y_pred_pos=lin_reg_pos.predict(X_train_pos)\n",
    "\n",
    "\n",
    "# Visualisering av regressionen på träningsdata\n",
    "viz_train_pos = plt\n",
    "viz_train_pos.scatter(X_train_pos, y_train_pos, color='red')\n",
    "viz_train_pos.plot(X_train_pos, y_pred_pos, color='blue')\n",
    "viz_train_pos.title('Salary VS Position (Training set)')\n",
    "viz_train_pos.xlabel('Position')\n",
    "viz_train_pos.ylabel('Salary')\n",
    "viz_train_pos.show()\n"
   ]
  },
  {
   "cell_type": "markdown",
   "metadata": {},
   "source": [
    "Förutom att visualisera vårt resultat för att se hur väl vår valda modell passar vårt problem kan vi också använda beräkningar för att se hur bra vår modell är. Ett av de absolut enklaste sätten är att jämföra med medelvärdet för varje prediktkerat värde, modellen bör åtminstonde vara bättre än detta värde. \n",
    "\n",
    "Bättre sätt att beräkna \"fit\" för linjär regression är R^2 score och MSE, RMSE (Root mean square error). Dessa kan vi räkna ut direkt med hjälp av inbyggda funktioner. "
   ]
  },
  {
   "cell_type": "code",
   "execution_count": null,
   "metadata": {
    "scrolled": false
   },
   "outputs": [],
   "source": [
    "from sklearn.metrics import mean_squared_error\n",
    "from sklearn.metrics import r2_score\n",
    "from math import sqrt\n",
    "\n",
    "#Beräknar kvalitetsvärden för träningsdata av positionsdata\n",
    "print(\"mse \" + str(mean_squared_error(y_train_pos, y_pred_pos)))\n",
    "print(\"rmse \" + str(sqrt(mean_squared_error(y_train_pos, y_pred_pos))))\n",
    "print(\"r^2 score \"  + str(r2_score(y_train_pos, y_pred_pos)))\n",
    "\n"
   ]
  },
  {
   "cell_type": "code",
   "execution_count": null,
   "metadata": {},
   "outputs": [],
   "source": [
    "#Dela upp dataset i testdata och träningsdata för lönetabellen\n",
    "X_train_sal, X_test_sal, y_train_sal, y_test_sal = train_test_split(X_sal, y_sal, test_size=1/3, random_state=0)"
   ]
  },
  {
   "cell_type": "code",
   "execution_count": null,
   "metadata": {},
   "outputs": [],
   "source": [
    "# Beräknar en rät linje anpassad till vårt träningsdata för lönedata\n",
    "lin_reg_sal = LinearRegression()\n",
    "lin_reg_sal.fit(X_train_sal, y_train_sal)\n",
    "\n",
    "\n",
    "#Predikterar och visualiserar resultatet för träningsdata\n",
    "y_pred_train_sal=lin_reg_sal.predict(X_train_sal)\n",
    "viz_train = plt\n",
    "viz_train.scatter(X_train_sal, y_train_sal, color='red')\n",
    "viz_train.plot(X_train_sal, lin_reg_sal.predict(X_train_sal), color='blue')\n",
    "viz_train.title('Salary VS Experience (Training set)')\n",
    "viz_train.xlabel('Years of Experience')\n",
    "viz_train.ylabel('Salary')\n",
    "viz_train.show()\n",
    "\n",
    "\n",
    "#Beräknar kvalitetsvärden för träningsdata\n",
    "print(\"mse \" + str(mean_squared_error(y_train_sal, y_pred_train_sal)))\n",
    "print(\"rmse \" + str(sqrt(mean_squared_error(y_train_sal, y_pred_train_sal))))\n",
    "print(\"r^2 score \"  + str(r2_score(y_train_sal, y_pred_train_sal)))"
   ]
  },
  {
   "cell_type": "code",
   "execution_count": null,
   "metadata": {},
   "outputs": [],
   "source": [
    "# Predikterar och visualiserar resultatet för testdata \n",
    "y_pred_test_sal=lin_reg_sal.predict(X_test_sal)\n",
    "viz_test = plt\n",
    "viz_test.scatter(X_test_sal, y_test_sal, color='red')\n",
    "viz_test.plot(X_test_sal, y_pred_test_sal, color='blue')\n",
    "viz_test.title('Salary VS Experience (Test set)')\n",
    "viz_test.xlabel('Years of Experience')\n",
    "viz_test.ylabel('Salary')\n",
    "viz_test.show()\n",
    "\n",
    "#Beräknar kvalitetsvärden för träningsdata\n",
    "print(\"mse \" + str(mean_squared_error(y_test_sal, y_pred_test_sal)))\n",
    "print(\"rmse \" + str(sqrt(mean_squared_error(y_test_sal, y_pred_test_sal))))\n",
    "print(\"r^2 score \"  + str(r2_score(y_test_sal, y_pred_test_sal)))\n"
   ]
  },
  {
   "cell_type": "markdown",
   "metadata": {},
   "source": [
    "Ok, hur ser de ut, är en rät linje en bra approximation för våra två dataset? Vad säger våra kvalitetsvärden? \n",
    "\n",
    "Nja, det verkar passa utmärkt för lönedata baserat på antal år man arbetat, men betydligt sämre på lönedata baserat på position. Där behöver vi uppenbarligen testa något annat.\n",
    "\n",
    "Vilket sätt är enklast att bestämma detta, värden eller visualisering?\n",
    "\n",
    "Ok, då testar vi att istället anpassa en polynomiskt beräknad linje till vårt dataset med lön per position. Testa med olika grader på polynom.\n",
    "\n",
    "OBS! Här använder jag inte test och träningsdata eftersom tabellen endast innehåller 10 rader är detta inte meningefullt och skulle inte fungera. Träningsdata skulle exempelvis bara blir 3 punkter om vi delar 70% och 30%. Samma problem finns egentligen även i lönetabellen med sina 30 rader, dock fungerar det hyfsat ändå eftersom sambandet är såpass linjärt. \n",
    "\n",
    "Vilken grad motsvarar vår ursprungliga linje? Vad motsvarar 0?"
   ]
  },
  {
   "cell_type": "code",
   "execution_count": null,
   "metadata": {},
   "outputs": [],
   "source": [
    "# Istället för en rät linje approximerar vi med hjälp av polynom för positionsdata. Här med grad 1.\n",
    "from sklearn.preprocessing import PolynomialFeatures\n",
    "poly_reg = PolynomialFeatures(degree=1)\n",
    "X_poly = poly_reg.fit_transform(X_pos)\n",
    "pol_reg_pos = LinearRegression()\n",
    "pol_reg_pos.fit(X_poly, y_pos)\n",
    "\n",
    "# Visualisera den polynomiska regressionens resultat \n",
    "def viz_polymonial():\n",
    "    plt.scatter(X_pos, y_pos, color='red')\n",
    "    plt.plot(X_pos, pol_reg_pos.predict(poly_reg.fit_transform(X_pos)), color='blue')\n",
    "    plt.title('Polynomial grade 1')\n",
    "    plt.xlabel('Position level')\n",
    "    plt.ylabel('Salary')\n",
    "    plt.show()\n",
    "    return\n",
    "viz_polymonial()"
   ]
  },
  {
   "cell_type": "code",
   "execution_count": null,
   "metadata": {},
   "outputs": [],
   "source": [
    "# Istället för en rät linje approximerar vi med hjälp av polynom. Grad 2\n",
    "poly_reg = PolynomialFeatures(degree=2)\n",
    "X_pos_poly = poly_reg.fit_transform(X_pos)\n",
    "pol_reg_pos = LinearRegression()\n",
    "pol_reg_pos.fit(X_pos_poly, y_pos)\n",
    "\n",
    "# Visualisera den polynomiska regressionens resultat \n",
    "y_pol_pred_pos=pol_reg_pos.predict(poly_reg.fit_transform(X_pos))\n",
    "def viz_polymonial():\n",
    "    plt.scatter(X_pos, y_pos, color='red')\n",
    "    plt.plot(X_pos, y_pol_pred_pos, color='blue')\n",
    "    plt.title('Polynomial grade 2')\n",
    "    plt.xlabel('Position level')\n",
    "    plt.ylabel('Salary')\n",
    "    plt.show()\n",
    "    return\n",
    "viz_polymonial()\n",
    "\n",
    "#Beräknar kvalitetsvärden för träningsdata med polynom\n",
    "print(\"mse \" + str(mean_squared_error(y_pos, y_pol_pred_pos)))\n",
    "print(\"rmse \" + str(sqrt(mean_squared_error(y_pos, y_pol_pred_pos))))\n",
    "print(\"r^2 score \"  + str(r2_score(y_pos, y_pol_pred_pos)))\n"
   ]
  },
  {
   "cell_type": "code",
   "execution_count": null,
   "metadata": {},
   "outputs": [],
   "source": [
    "# Istället för en rät linje approximerar vi med hjälp av polynom. Grad 3\n",
    "poly_reg = PolynomialFeatures(degree=3)\n",
    "X_pos_poly = poly_reg.fit_transform(X_pos)\n",
    "pol_reg_pos = LinearRegression()\n",
    "pol_reg_pos.fit(X_pos_poly, y_pos)\n",
    "\n",
    "# Visualisera den polynomiska regressionens resultat \n",
    "y_pol_pred_pos=pol_reg_pos.predict(poly_reg.fit_transform(X_pos))\n",
    "def viz_polymonial():\n",
    "    plt.scatter(X_pos, y_pos, color='red')\n",
    "    plt.plot(X_pos, y_pol_pred_pos, color='blue')\n",
    "    plt.title('Polynomial grade 3')\n",
    "    plt.xlabel('Position level')\n",
    "    plt.ylabel('Salary')\n",
    "    plt.show()\n",
    "    return\n",
    "viz_polymonial()\n",
    "\n",
    "#Beräknar kvalitetsvärden för träningsdata med polynom\n",
    "print(\"mse \" + str(mean_squared_error(y_pos, y_pol_pred_pos)))\n",
    "print(\"rmse \" + str(sqrt(mean_squared_error(y_pos, y_pol_pred_pos))))\n",
    "print(\"r^2 score \"  + str(r2_score(y_pos, y_pol_pred_pos)))"
   ]
  },
  {
   "cell_type": "code",
   "execution_count": null,
   "metadata": {},
   "outputs": [],
   "source": [
    "# Istället för en rät linje approximerar vi med hjälp av polynom. Grad 4\n",
    "poly_reg = PolynomialFeatures(degree=4)\n",
    "X_pos_poly = poly_reg.fit_transform(X_pos)\n",
    "pol_reg_pos = LinearRegression()\n",
    "pol_reg_pos.fit(X_pos_poly, y_pos)\n",
    "\n",
    "# Visualisera den polynomiska regressionens resultat \n",
    "y_pol_pred_pos=pol_reg_pos.predict(poly_reg.fit_transform(X_pos))\n",
    "def viz_polymonial():\n",
    "    plt.scatter(X_pos, y_pos, color='red')\n",
    "    plt.plot(X_pos, y_pol_pred_pos, color='blue')\n",
    "    plt.title('Polynomial grade 3')\n",
    "    plt.xlabel('Position level')\n",
    "    plt.ylabel('Salary')\n",
    "    plt.show()\n",
    "    return\n",
    "viz_polymonial()\n",
    "\n",
    "#Beräknar kvalitetsvärden för träningsdata med polynom\n",
    "print(\"mse \" + str(mean_squared_error(y_pos, y_pol_pred_pos)))\n",
    "print(\"rmse \" + str(sqrt(mean_squared_error(y_pos, y_pol_pred_pos))))\n",
    "print(\"r^2 score \"  + str(r2_score(y_pos, y_pol_pred_pos)))"
   ]
  },
  {
   "cell_type": "code",
   "execution_count": null,
   "metadata": {},
   "outputs": [],
   "source": [
    "# Istället för en rät linje approximerar vi med hjälp av polynom. Grad 8\n",
    "poly_reg = PolynomialFeatures(degree=8)\n",
    "X_pos_poly = poly_reg.fit_transform(X_pos)\n",
    "pol_reg_pos = LinearRegression()\n",
    "pol_reg_pos.fit(X_pos_poly, y_pos)\n",
    "\n",
    "# Visualisera den polynomiska regressionens resultat \n",
    "y_pol_pred_pos=pol_reg_pos.predict(poly_reg.fit_transform(X_pos))\n",
    "def viz_polymonial():\n",
    "    plt.scatter(X_pos, y_pos, color='red')\n",
    "    plt.plot(X_pos, y_pol_pred_pos, color='blue')\n",
    "    plt.title('Polynomial grade 3')\n",
    "    plt.xlabel('Position level')\n",
    "    plt.ylabel('Salary')\n",
    "    plt.show()\n",
    "    return\n",
    "viz_polymonial()\n",
    "\n",
    "#Beräknar kvalitetsvärden för träningsdata med polynom\n",
    "print(\"mse \" + str(mean_squared_error(y_pos, y_pol_pred_pos)))\n",
    "print(\"rmse \" + str(sqrt(mean_squared_error(y_pos, y_pol_pred_pos))))\n",
    "print(\"r^2 score \"  + str(r2_score(y_pos, y_pol_pred_pos)))"
   ]
  },
  {
   "cell_type": "raw",
   "metadata": {},
   "source": [
    "Hur vet vi när den är overfitted?"
   ]
  },
  {
   "cell_type": "markdown",
   "metadata": {},
   "source": [
    "Ok, vad ska vi nu ha detta till? Jo, för att beräkna vad för lön man ska erbjuda sina nyanställda för att de ska tacka ja! \n",
    "\n",
    "Vilken modell skulle du välja och varför? Går detta problem att lösa med båda tabellerna var för sig, tabellerna ihop?\n",
    "\n",
    "Gör några predikteringar för vad du skulle erbjuda för lön till nyanställda beroende på antal år."
   ]
  },
  {
   "cell_type": "code",
   "execution_count": null,
   "metadata": {},
   "outputs": [],
   "source": []
  }
 ],
 "metadata": {
  "kernelspec": {
   "display_name": "Python 3",
   "language": "python",
   "name": "python3"
  },
  "language_info": {
   "codemirror_mode": {
    "name": "ipython",
    "version": 3
   },
   "file_extension": ".py",
   "mimetype": "text/x-python",
   "name": "python",
   "nbconvert_exporter": "python",
   "pygments_lexer": "ipython3",
   "version": "3.7.6"
  }
 },
 "nbformat": 4,
 "nbformat_minor": 2
}
