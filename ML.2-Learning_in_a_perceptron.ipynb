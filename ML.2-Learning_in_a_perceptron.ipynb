{
 "cells": [
  {
   "cell_type": "markdown",
   "metadata": {},
   "source": [
    "# 2 - Att lära en perceptron\n",
    "\n",
    "I den här notebooken tittar vi på hur man implementerar inlärning i en perceptron. Perceptronen initialiseras med random-värden och vet alltså ingenting. \n",
    "\n",
    "Vi gör två saker:\n",
    "\n",
    "1. Tränar perceptronen att känna igen att 1 är 1 och 0 är 0 \n",
    "1. Tränar perceptronen att negera det input den får. "
   ]
  },
  {
   "cell_type": "code",
   "execution_count": 10,
   "metadata": {},
   "outputs": [],
   "source": [
    "import random\n",
    "import numpy as np"
   ]
  },
  {
   "cell_type": "code",
   "execution_count": 11,
   "metadata": {},
   "outputs": [],
   "source": [
    "#Perceptronen har en stegvis aktiveringsfunktion, alltså returnerar 0 eller 1.\n",
    "def step_function(x, threshold):\n",
    "    if x < threshold:\n",
    "        return 0\n",
    "    elif x >= threshold:\n",
    "        return 1\n",
    "#Klass som implementerar en 1-input perceptron (en klass för att kunna hålla reda på state och därmed behålla inlärningen)\n",
    "class Perceptron1():\n",
    "    \n",
    "    def __init__(self, w1, threshold, activation_function): #vad är w1?\n",
    "        self.w1 = w1\n",
    "        self.threshold = threshold\n",
    "        self.activation_function = activation_function\n",
    "    \n",
    "    def activate(self, x1):\n",
    "        output = self.activation_function(x1 * self.w1, self.threshold)#skalärprodukt\n",
    "        return output\n",
    "#Vi tränar vår perceptron 50 gånger, learning rate handlar om hur vi sätter vikter i varje iteration, \n",
    "#hög siffra, stor ändring, färre iteration, låg siffra, mindre ändring, kräver fler iterationer \n",
    "    def train(self, X, y, learning_rate=0.01, iterations=50):\n",
    "        self.w1 = random.uniform(0, 0.1)\n",
    "        self.threshold = random.uniform(-1, 1)\n",
    "        self.errors = []\n",
    "        #breadcrumps är \"historik över errors\", kan implementeras utan denna funktion, används för att vikta rätt.\n",
    "        self.w1_breadcrumbs = []\n",
    "        self.t_breadcrumbs = [self.threshold]\n",
    "\n",
    "        for _ in range(iterations):\n",
    "            errors = 0\n",
    "            for xi, target in zip(X, y):\n",
    "                update = learning_rate * (target - self.activate(xi))\n",
    "                self.w1 +=  update * xi\n",
    "                self.w1 +=  update\n",
    "                errors += int(update != 0.0)\n",
    "            self.w1_breadcrumbs.append(self.w1)\n",
    "            self.errors.append(errors)\n",
    "            # if the errors are getting more, reset the threshold randomly\n",
    "            if self.errors[-1] > self.errors[0]:\n",
    "                self.threshold = random.uniform(-1, 1)\n",
    "                self.t_breadcrumbs.append(self.threshold)"
   ]
  },
  {
   "cell_type": "markdown",
   "metadata": {},
   "source": [
    "Sätt upp en defaultperceptron som inte kan någonting:"
   ]
  },
  {
   "cell_type": "code",
   "execution_count": 12,
   "metadata": {},
   "outputs": [],
   "source": [
    "# default state\n",
    "p1 = Perceptron1(w1=0.001, threshold=0.5, activation_function=step_function)"
   ]
  },
  {
   "cell_type": "code",
   "execution_count": 13,
   "metadata": {},
   "outputs": [
    {
     "data": {
      "text/plain": [
       "0"
      ]
     },
     "execution_count": 13,
     "metadata": {},
     "output_type": "execute_result"
    }
   ],
   "source": [
    "p1.activate(0)"
   ]
  },
  {
   "cell_type": "code",
   "execution_count": 14,
   "metadata": {},
   "outputs": [
    {
     "data": {
      "text/plain": [
       "0"
      ]
     },
     "execution_count": 14,
     "metadata": {},
     "output_type": "execute_result"
    }
   ],
   "source": [
    "p1.activate(1)"
   ]
  },
  {
   "cell_type": "markdown",
   "metadata": {},
   "source": [
    "Nu tränar vi vår perceptron att känna igen 1 och 0"
   ]
  },
  {
   "cell_type": "code",
   "execution_count": 15,
   "metadata": {},
   "outputs": [],
   "source": [
    "p1.train([1, 0, 1, 0, 0], [1, 0, 1, 0, 0])"
   ]
  },
  {
   "cell_type": "code",
   "execution_count": 16,
   "metadata": {},
   "outputs": [
    {
     "data": {
      "text/plain": [
       "1"
      ]
     },
     "execution_count": 16,
     "metadata": {},
     "output_type": "execute_result"
    }
   ],
   "source": [
    "p1.activate(1)"
   ]
  },
  {
   "cell_type": "code",
   "execution_count": 17,
   "metadata": {},
   "outputs": [
    {
     "data": {
      "text/plain": [
       "0"
      ]
     },
     "execution_count": 17,
     "metadata": {},
     "output_type": "execute_result"
    }
   ],
   "source": [
    "p1.activate(0)"
   ]
  },
  {
   "cell_type": "code",
   "execution_count": 18,
   "metadata": {},
   "outputs": [
    {
     "data": {
      "text/plain": [
       "[<matplotlib.lines.Line2D at 0x1189afe50>]"
      ]
     },
     "execution_count": 18,
     "metadata": {},
     "output_type": "execute_result"
    },
    {
     "data": {
      "image/png": "[encoded data removed]",
      "text/plain": [
       "<Figure size 432x288 with 1 Axes>"
      ]
     },
     "metadata": {
      "needs_background": "light"
     },
     "output_type": "display_data"
    }
   ],
   "source": [
    "import matplotlib.pyplot as plt\n",
    "%matplotlib inline\n",
    "plt.ylabel('Num errors / weight')\n",
    "plt.xlabel('Iterations of training')\n",
    "plt.plot(np.array(p1.w1_breadcrumbs))\n",
    "plt.plot(np.array(p1.errors))"
   ]
  },
  {
   "cell_type": "markdown",
   "metadata": {},
   "source": [
    "Tränar samma perceptron igen för att lära sig negera 1 och 0 (alltså byta tecken)."
   ]
  },
  {
   "cell_type": "code",
   "execution_count": 19,
   "metadata": {},
   "outputs": [],
   "source": [
    "p1.train([1, 0, 1, 0, 0], [0, 1, 0, 1, 1])"
   ]
  },
  {
   "cell_type": "code",
   "execution_count": 20,
   "metadata": {},
   "outputs": [
    {
     "data": {
      "text/plain": [
       "1"
      ]
     },
     "execution_count": 20,
     "metadata": {},
     "output_type": "execute_result"
    }
   ],
   "source": [
    "p1.activate(0)"
   ]
  },
  {
   "cell_type": "code",
   "execution_count": 21,
   "metadata": {},
   "outputs": [
    {
     "data": {
      "text/plain": [
       "0"
      ]
     },
     "execution_count": 21,
     "metadata": {},
     "output_type": "execute_result"
    }
   ],
   "source": [
    "p1.activate(1)"
   ]
  },
  {
   "cell_type": "code",
   "execution_count": 22,
   "metadata": {},
   "outputs": [
    {
     "data": {
      "text/plain": [
       "[<matplotlib.lines.Line2D at 0x1196b5d50>]"
      ]
     },
     "execution_count": 22,
     "metadata": {},
     "output_type": "execute_result"
    },
    {
     "data": {
      "image/png": "[encoded data removed]",
      "text/plain": [
       "<Figure size 432x288 with 1 Axes>"
      ]
     },
     "metadata": {
      "needs_background": "light"
     },
     "output_type": "display_data"
    }
   ],
   "source": [
    "import matplotlib.pyplot as plt\n",
    "%matplotlib inline\n",
    "plt.ylabel('Num errors / weight')\n",
    "plt.xlabel('Iterations of training')\n",
    "plt.plot(np.array(p1.w1_breadcrumbs))\n",
    "plt.plot(np.array(p1.errors))"
   ]
  },
  {
   "cell_type": "code",
   "execution_count": null,
   "metadata": {},
   "outputs": [],
   "source": []
  },
  {
   "cell_type": "code",
   "execution_count": null,
   "metadata": {},
   "outputs": [],
   "source": []
  }
 ],
 "metadata": {
  "kernelspec": {
   "display_name": "Python 3",
   "language": "python",
   "name": "python3"
  },
  "language_info": {
   "codemirror_mode": {
    "name": "ipython",
    "version": 3
   },
   "file_extension": ".py",
   "mimetype": "text/x-python",
   "name": "python",
   "nbconvert_exporter": "python",
   "pygments_lexer": "ipython3",
   "version": "3.7.4"
  }
 },
 "nbformat": 4,
 "nbformat_minor": 2
}
